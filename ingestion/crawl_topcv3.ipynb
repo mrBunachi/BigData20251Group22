{
 "cells": [
  {
   "cell_type": "code",
   "execution_count": 9,
   "id": "0e14b3b4",
   "metadata": {},
   "outputs": [
    {
     "name": "stdout",
     "output_type": "stream",
     "text": [
      "\n",
      "Tổng số link thu được: 1000\n"
     ]
    }
   ],
   "source": [
    "import requests\n",
    "from bs4 import BeautifulSoup\n",
    "import concurrent.futures\n",
    "import time, random\n",
    "\n",
    "import json\n",
    "import re\n",
    "import os\n",
    "\n",
    "job_links = []\n",
    "\n",
    "# Header giả lập trình duyệt thật\n",
    "headers = {\n",
    "    \"User-Agent\": \"Mozilla/5.0 (Windows NT 10.0; Win64; x64) \"\n",
    "                  \"AppleWebKit/537.36 (KHTML, like Gecko) \"\n",
    "                  \"Chrome/119.0.0.0 Safari/537.36\",\n",
    "    \"Accept\": \"text/html,application/xhtml+xml,application/xml;q=0.9,image/webp,*/*;q=0.8\",\n",
    "    # 👇 Tắt yêu cầu nén gzip/br\n",
    "    \"Accept-Encoding\": \"identity\",\n",
    "    \"Accept-Language\": \"vi-VN,vi;q=0.9,en;q=0.8\",\n",
    "    \"Connection\": \"keep-alive\",\n",
    "}\n",
    "\n",
    "def crawl_page(page):\n",
    "    url = f\"https://www.topcv.vn/viec-lam-it?page={page}\"\n",
    "    try:\n",
    "        # Delay ngẫu nhiên tránh bị chặn\n",
    "        time.sleep(random.uniform(2, 4))\n",
    "\n",
    "        response = requests.get(url, headers=headers, timeout=15)\n",
    "        response.encoding = response.apparent_encoding  # tự đoán encoding\n",
    "\n",
    "        # Lưu HTML của trang ra file để kiểm tra\n",
    "        #with open(f\"page_{page}.html\", \"wb\") as f:\n",
    "            #f.write(response.content)\n",
    "\n",
    "        if response.status_code == 200:\n",
    "            soup = BeautifulSoup(response.text, \"html.parser\")\n",
    "            all_job = soup.find_all(\"div\", class_=\"job-item-2\")\n",
    "            links = []\n",
    "            for job in all_job:\n",
    "                a_tag = job.find(\"a\", href=True)\n",
    "                if a_tag:\n",
    "                    links.append(a_tag[\"href\"])\n",
    "            # print(f\"Trang {page}: {len(links)} links\")\n",
    "            return links\n",
    "        else:\n",
    "            print(f\"Trang {page} lỗi HTTP {response.status_code}\")\n",
    "    except Exception as e:\n",
    "        print(f\"Lỗi trang {page}: {e}\")\n",
    "    return []\n",
    "\n",
    "\n",
    "# === Chạy đa luồng nhẹ (đừng quá cao nếu không bị chặn) ===\n",
    "with concurrent.futures.ThreadPoolExecutor(max_workers=3) as executor:\n",
    "    results = executor.map(crawl_page, range(2, 22))  # thử trước 20 trang\n",
    "    for r in results:\n",
    "        job_links.extend(r)\n",
    "\n",
    "print(\"\\nTổng số link thu được:\", len(job_links))"
   ]
  },
  {
   "cell_type": "code",
   "execution_count": 8,
   "id": "60594052",
   "metadata": {},
   "outputs": [
    {
     "ename": "IndexError",
     "evalue": "list index out of range",
     "output_type": "error",
     "traceback": [
      "\u001b[31m---------------------------------------------------------------------------\u001b[39m",
      "\u001b[31mIndexError\u001b[39m                                Traceback (most recent call last)",
      "\u001b[36mCell\u001b[39m\u001b[36m \u001b[39m\u001b[32mIn[8]\u001b[39m\u001b[32m, line 1\u001b[39m\n\u001b[32m----> \u001b[39m\u001b[32m1\u001b[39m \u001b[43mjob_links\u001b[49m\u001b[43m[\u001b[49m\u001b[32;43m0\u001b[39;49m\u001b[43m]\u001b[49m\n",
      "\u001b[31mIndexError\u001b[39m: list index out of range"
     ]
    }
   ],
   "source": [
    "job_links[0]"
   ]
  },
  {
   "cell_type": "code",
   "execution_count": null,
   "id": "401e5153",
   "metadata": {},
   "outputs": [],
   "source": [
    "def link_to_json(url,number_of_file):\n",
    "    #Lấy soup\n",
    "    response = requests.get(url, headers= headers, timeout = 15)\n",
    "    if response.status_code == 200:\n",
    "        soup = BeautifulSoup(response.text, \"html.parser\")\n",
    "        # print(soup)\n",
    "\n",
    "    #Lấy job_description_content\n",
    "    job_description_content = soup.find(\"div\", class_=lambda c: c and \"job-description\" in c)\n",
    "    # print(job_description_content)\n",
    "    job_text = job_description_content.get_text(separator=\"\\n\",strip=True)\n",
    "    # print(job_text)\n",
    "\n",
    "    # text = extract_job_info(soup)\n",
    "    output_lines = []\n",
    "    print(\"=== Tên công ty ===\")\n",
    "    company_name_label = soup.find(\"div\", class_ = \"company-name-label\")\n",
    "    if ( company_name_label ):\n",
    "        a_tag = company_name_label.find(\"a\")\n",
    "        if a_tag:\n",
    "            company_name = a_tag.get_text(strip=True)\n",
    "            output_lines.append(\"=== Tên công ty ===\")\n",
    "            output_lines.append(company_name)\n",
    "\n",
    "    job_detail_info = soup.find_all(\"div\", class_=\"job-detail__info--section\")\n",
    "    for section in job_detail_info:\n",
    "        title_tag = section.find(\"div\", class_=\"job-detail__info--section-content-title\")\n",
    "        value_tag = section.find(\"div\", class_=\"job-detail__info--section-content-value\")\n",
    "\n",
    "        if value_tag:\n",
    "            a_tag = value_tag.find(\"a\")\n",
    "            if a_tag:\n",
    "                value_text = a_tag.get_next(strip=True)\n",
    "            else:\n",
    "                value_text = value_tag.get_next(strip=True)\n",
    "        else:\n",
    "            value_text = \"\"\n",
    "\n",
    "        title_text = title_tag.get_next(strip=True) if title_tag else \"Không có tiêu đề\"\n",
    "\n",
    "        output_lines.append(f\"=== {title_text} ===\")\n",
    "        output_lines.append(value_text)\n",
    "\n",
    "    items = job_description_content.find_all(\"div\", class_ = \"job-description__item\")\n",
    "    for item in items:\n",
    "        title = item.find(\"h3\").get_text(strip=True)\n",
    "        content = item.find(\"div\", class_=\"job-description__item--content\").get_text(separator=\"\\n\", strip=True)\n",
    "        output_lines.append(f\"=== {title} ===\")\n",
    "        output_lines.append(content)\n",
    "    \n",
    "    text = \"\\n\".join(output_lines)\n",
    "    # text_to_json(text, TÊN_FILE_Ở_ĐÂY)\n",
    "    print(text)"
   ]
  },
  {
   "cell_type": "code",
   "execution_count": null,
   "id": "dab70737",
   "metadata": {},
   "outputs": [],
   "source": []
  }
 ],
 "metadata": {
  "kernelspec": {
   "display_name": ".venv",
   "language": "python",
   "name": "python3"
  },
  "language_info": {
   "codemirror_mode": {
    "name": "ipython",
    "version": 3
   },
   "file_extension": ".py",
   "mimetype": "text/x-python",
   "name": "python",
   "nbconvert_exporter": "python",
   "pygments_lexer": "ipython3",
   "version": "3.12.6"
  }
 },
 "nbformat": 4,
 "nbformat_minor": 5
}
