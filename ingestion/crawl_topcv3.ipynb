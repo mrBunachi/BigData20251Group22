{
 "cells": [
  {
   "cell_type": "code",
   "execution_count": 36,
   "id": "0e14b3b4",
   "metadata": {},
   "outputs": [
    {
     "name": "stdout",
     "output_type": "stream",
     "text": [
      "\n",
      "Tổng số link thu được: 1000\n"
     ]
    }
   ],
   "source": [
    "import requests\n",
    "from bs4 import BeautifulSoup\n",
    "import concurrent.futures\n",
    "import time, random\n",
    "\n",
    "import json\n",
    "import re\n",
    "import os\n",
    "\n",
    "job_links = []\n",
    "\n",
    "# Header giả lập trình duyệt thật\n",
    "headers = {\n",
    "    \"User-Agent\": \"Mozilla/5.0 (Windows NT 10.0; Win64; x64) \"\n",
    "                  \"AppleWebKit/537.36 (KHTML, like Gecko) \"\n",
    "                  \"Chrome/119.0.0.0 Safari/537.36\",\n",
    "    \"Accept\": \"text/html,application/xhtml+xml,application/xml;q=0.9,image/webp,*/*;q=0.8\",\n",
    "    # 👇 Tắt yêu cầu nén gzip/br\n",
    "    \"Accept-Encoding\": \"identity\",\n",
    "    \"Accept-Language\": \"vi-VN,vi;q=0.9,en;q=0.8\",\n",
    "    \"Connection\": \"keep-alive\",\n",
    "}\n",
    "\n",
    "def crawl_page(page):\n",
    "    url = f\"https://www.topcv.vn/viec-lam-it?page={page}\"\n",
    "    try:\n",
    "        # Delay ngẫu nhiên tránh bị chặn\n",
    "        time.sleep(random.uniform(2, 4))\n",
    "\n",
    "        response = requests.get(url, headers=headers, timeout=15)\n",
    "        response.encoding = response.apparent_encoding  # tự đoán encoding\n",
    "\n",
    "        # Lưu HTML của trang ra file để kiểm tra\n",
    "        #with open(f\"page_{page}.html\", \"wb\") as f:\n",
    "            #f.write(response.content)\n",
    "\n",
    "        if response.status_code == 200:\n",
    "            soup = BeautifulSoup(response.text, \"html.parser\")\n",
    "            all_job = soup.find_all(\"div\", class_=\"job-item-2\")\n",
    "            links = []\n",
    "            for job in all_job:\n",
    "                a_tag = job.find(\"a\", href=True)\n",
    "                if a_tag:\n",
    "                    links.append(a_tag[\"href\"])\n",
    "            # print(f\"Trang {page}: {len(links)} links\")\n",
    "            return links\n",
    "        else:\n",
    "            print(f\"Trang {page} lỗi HTTP {response.status_code}\")\n",
    "    except Exception as e:\n",
    "        print(f\"Lỗi trang {page}: {e}\")\n",
    "    return []\n",
    "\n",
    "\n",
    "# === Chạy đa luồng nhẹ (đừng quá cao nếu không bị chặn) ===\n",
    "with concurrent.futures.ThreadPoolExecutor(max_workers=3) as executor:\n",
    "    results = executor.map(crawl_page, range(2, 22))  # thử trước 20 trang\n",
    "    for r in results:\n",
    "        job_links.extend(r)\n",
    "\n",
    "print(\"\\nTổng số link thu được:\", len(job_links))"
   ]
  },
  {
   "cell_type": "code",
   "execution_count": 37,
   "id": "60594052",
   "metadata": {},
   "outputs": [
    {
     "data": {
      "text/plain": [
       "'https://www.topcv.vn/viec-lam/executive-it-support/1926095.html?ta_source=ITJobs_LinkDetail'"
      ]
     },
     "execution_count": 37,
     "metadata": {},
     "output_type": "execute_result"
    }
   ],
   "source": [
    "job_links[0]"
   ]
  },
  {
   "cell_type": "code",
   "execution_count": null,
   "id": "401e5153",
   "metadata": {},
   "outputs": [],
   "source": [
    "def link_to_json(url,json_file_name):\n",
    "    \n",
    "    #Lấy soup\n",
    "    response = requests.get(url, headers= headers, timeout = 15)\n",
    "    if response.status_code == 200:\n",
    "        soup = BeautifulSoup(response.text, \"html.parser\")\n",
    "        # print(soup)\n",
    "\n",
    "    #Lấy job_description_content\n",
    "    job_description_content = soup.find(\"div\", class_=lambda c: c and \"job-description\" in c)\n",
    "    # print(job_description_content)\n",
    "    job_text = job_description_content.get_text(separator=\"\\n\",strip=True)\n",
    "    # print(job_text)\n",
    "\n",
    "    # text = extract_job_info(soup)\n",
    "    output_lines = []\n",
    "    print(\"=== Tên công ty ===\")\n",
    "    company_name_label = soup.find(\"div\", class_ = \"company-name-label\")\n",
    "    if ( company_name_label ):\n",
    "        a_tag = company_name_label.find(\"a\")\n",
    "        if a_tag:\n",
    "            company_name = a_tag.get_text(strip=True)\n",
    "            output_lines.append(\"=== Tên công ty ===\")\n",
    "            output_lines.append(company_name)\n",
    "\n",
    "    job_detail_info = soup.find_all(\"div\", class_=\"job-detail__info--section\")\n",
    "    for section in job_detail_info:\n",
    "        title_tag = section.find(\"div\", class_=\"job-detail__info--section-content-title\")\n",
    "        value_tag = section.find(\"div\", class_=\"job-detail__info--section-content-value\")\n",
    "\n",
    "        if value_tag:\n",
    "            a_tag = value_tag.find(\"a\")\n",
    "            if a_tag:\n",
    "                value_text = a_tag.get_text(strip=True)\n",
    "            else:\n",
    "                value_text = value_tag.get_text(strip=True)\n",
    "        else:\n",
    "            value_text = \"\"\n",
    "\n",
    "        title_text = title_tag.get_text(strip=True) if title_tag else \"Không có tiêu đề\"\n",
    "\n",
    "        output_lines.append(f\"=== {title_text} ===\")\n",
    "        output_lines.append(value_text)\n",
    "\n",
    "    items = job_description_content.find_all(\"div\", class_ = \"job-description__item\")\n",
    "    for item in items:\n",
    "        title = item.find(\"h3\").get_text(strip=True)\n",
    "        content = item.find(\"div\", class_=\"job-description__item--content\").get_text(separator=\"\\n\", strip=True)\n",
    "        output_lines.append(f\"=== {title} ===\")\n",
    "        output_lines.append(content)\n",
    "    \n",
    "    text = \"\\n\".join(output_lines)\n",
    "    # text_to_json(text, TÊN_FILE_Ở_ĐÂY)\n",
    "    # Oke, tới đây đã lấy được text rồi nè\n",
    "    # print(text)\n",
    "    pattern = r\"===\\s*(.*?)\\s*===\\s*([\\s\\S]*?)(?===|$)\"\n",
    "    matches = re.findall(pattern, text)\n",
    "\n",
    "    job_info = {}\n",
    "    for title, content in matches:\n",
    "        clean_title = title.strip()\n",
    "        clean_content = content.strip()\n",
    "        job_info[clean_title] = clean_content\n",
    "\n",
    "    #Đọc file hiện có\n",
    "    filename = json_file_name\n",
    "    if (os.path.exists(filename)):\n",
    "        with open(filename, \"r\", encoding=\"utf-8\") as f:\n",
    "            try:\n",
    "                data = json.load(f)\n",
    "            except json.JSONDecodeError:\n",
    "                data = []\n",
    "    else:\n",
    "        data = []\n",
    "\n",
    "    data.append(job_info)\n",
    "\n",
    "    with open(filename, \"w\", encoding=\"utf-8\") as f:\n",
    "        json.dump(data, f, ensure_ascii=False, indent=2)\n",
    "\n",
    "    print(f\"Đã thêm một bản ghi vào {filename}\")\n",
    "    return job_info"
   ]
  },
  {
   "cell_type": "code",
   "execution_count": 39,
   "id": "dab70737",
   "metadata": {},
   "outputs": [
    {
     "name": "stdout",
     "output_type": "stream",
     "text": [
      "https://www.topcv.vn/viec-lam/executive-it-support/1926095.html?ta_source=ITJobs_LinkDetail\n"
     ]
    }
   ],
   "source": [
    "url = job_links[0]\n",
    "print(url)"
   ]
  },
  {
   "cell_type": "code",
   "execution_count": 35,
   "id": "c5dd6c94",
   "metadata": {},
   "outputs": [
    {
     "name": "stdout",
     "output_type": "stream",
     "text": [
      "=== Tên công ty ===\n",
      "Đã thêm một bản ghi vào jobs.json\n"
     ]
    },
    {
     "data": {
      "text/plain": [
       "{'Tên công ty': 'Expolanka Freight (Vietnam) Ltd',\n",
       " 'Mức lương': 'Thoả thuận',\n",
       " 'Địa điểm': 'Hồ Chí Minh',\n",
       " 'Kinh nghiệm': '1 năm',\n",
       " 'Mô tả công việc': 'Key Responsibilities:\\n· Install, configure and maintain overall policies\\n· Manage daily operations of IT infrastructure including servers and network.\\n· Check performance/operation status of servers, network devices, security system.\\n· Requests create / remove Account (email & ERP system) for new staff/ leavers.\\n· Manage software license and update.\\n· Provide daily support to end users on a variety of issues (internet, email, applications, printing....)\\n· Identify, research and resolve IT technical problems.\\n· Monitor and troubleshoot hardware and software problems.\\n· Set-up, configure laptop/PCs for new staff (installation of relevant software, printers....)\\n· Support to technically manage office equipment (printers, projectors, copy machines, telephone operator...).\\n· Assist on data extraction on ERP system, creating & scheduling of reports\\n· Other tasks assigned by management.',\n",
       " 'Yêu cầu ứng viên': 'Position Requirements:\\n· At least 1 years of working experience in IT admin, network support...\\n· Good knowledge about network infrastructure & network devices (Cisco, Pep link, Fortinet)\\n· Strong knowledge about Office 365 products (Outlook, SharePoint, Power Automate)\\n· Knowledge of ERP software will be an added advantage\\n· Good English (both oral and written).',\n",
       " 'Quyền lợi': 'Benefits:\\n•\\tSocial insurance, health insurance, unemployment insurance according to Labor Laws\\n•\\tFriendly working environment\\n•\\tThe right salary and allowance, bonus offer to the right capacity and experience candidate\\n•\\t13th salary payment\\n•\\t12 annual leave days\\n•\\tSalary: upon capacity.',\n",
       " 'Địa điểm làm việc': '- Hồ Chí Minh: Floor M.02, Tower B, Viettel Building, 285 Cach Mang Thang 8, Quận 10',\n",
       " 'Cách thức ứng tuyển': 'Ứng viên nộp hồ sơ trực tuyến bằng cách bấm\\nỨng tuyển\\nngay dưới đây.'}"
      ]
     },
     "execution_count": 35,
     "metadata": {},
     "output_type": "execute_result"
    }
   ],
   "source": [
    "link_to_json(url,\"jobs.json\")"
   ]
  },
  {
   "cell_type": "code",
   "execution_count": 40,
   "id": "4da3834b",
   "metadata": {},
   "outputs": [
    {
     "name": "stdout",
     "output_type": "stream",
     "text": [
      "=== Tên công ty ===\n",
      "Đã thêm một bản ghi vào job_data_1.json\n",
      "Đã lưu job 1 vào file job_data_1.json\n",
      "=== Tên công ty ===\n",
      "Đã thêm một bản ghi vào job_data_1.json\n",
      "Đã lưu job 2 vào file job_data_1.json\n",
      "=== Tên công ty ===\n",
      "Đã thêm một bản ghi vào job_data_1.json\n",
      "Đã lưu job 3 vào file job_data_1.json\n",
      "=== Tên công ty ===\n",
      "Đã thêm một bản ghi vào job_data_1.json\n",
      "Đã lưu job 4 vào file job_data_1.json\n",
      "=== Tên công ty ===\n",
      "Đã thêm một bản ghi vào job_data_1.json\n",
      "Đã lưu job 5 vào file job_data_1.json\n",
      "=== Tên công ty ===\n",
      "Đã thêm một bản ghi vào job_data_1.json\n",
      "Đã lưu job 6 vào file job_data_1.json\n",
      "=== Tên công ty ===\n",
      "Đã thêm một bản ghi vào job_data_1.json\n",
      "Đã lưu job 7 vào file job_data_1.json\n",
      "=== Tên công ty ===\n",
      "Đã thêm một bản ghi vào job_data_1.json\n",
      "Đã lưu job 8 vào file job_data_1.json\n",
      "=== Tên công ty ===\n",
      "Đã thêm một bản ghi vào job_data_1.json\n",
      "Đã lưu job 9 vào file job_data_1.json\n",
      "=== Tên công ty ===\n",
      "Đã thêm một bản ghi vào job_data_1.json\n",
      "Đã lưu job 10 vào file job_data_1.json\n",
      "=== Tên công ty ===\n",
      "Đã thêm một bản ghi vào job_data_1.json\n",
      "Đã lưu job 11 vào file job_data_1.json\n",
      "=== Tên công ty ===\n",
      "Đã thêm một bản ghi vào job_data_1.json\n",
      "Đã lưu job 12 vào file job_data_1.json\n",
      "=== Tên công ty ===\n",
      "Đã thêm một bản ghi vào job_data_1.json\n",
      "Đã lưu job 13 vào file job_data_1.json\n",
      "=== Tên công ty ===\n",
      "Đã thêm một bản ghi vào job_data_1.json\n",
      "Đã lưu job 14 vào file job_data_1.json\n",
      "=== Tên công ty ===\n",
      "Đã thêm một bản ghi vào job_data_1.json\n",
      "Đã lưu job 15 vào file job_data_1.json\n",
      "=== Tên công ty ===\n",
      "Đã thêm một bản ghi vào job_data_1.json\n",
      "Đã lưu job 16 vào file job_data_1.json\n",
      "=== Tên công ty ===\n",
      "Đã thêm một bản ghi vào job_data_1.json\n",
      "Đã lưu job 17 vào file job_data_1.json\n",
      "=== Tên công ty ===\n",
      "Đã thêm một bản ghi vào job_data_1.json\n",
      "Đã lưu job 18 vào file job_data_1.json\n",
      "=== Tên công ty ===\n",
      "Đã thêm một bản ghi vào job_data_1.json\n",
      "Đã lưu job 19 vào file job_data_1.json\n",
      "=== Tên công ty ===\n",
      "Đã thêm một bản ghi vào job_data_1.json\n",
      "Đã lưu job 20 vào file job_data_1.json\n"
     ]
    },
    {
     "ename": "UnboundLocalError",
     "evalue": "cannot access local variable 'soup' where it is not associated with a value",
     "output_type": "error",
     "traceback": [
      "\u001b[31m---------------------------------------------------------------------------\u001b[39m",
      "\u001b[31mUnboundLocalError\u001b[39m                         Traceback (most recent call last)",
      "\u001b[36mCell\u001b[39m\u001b[36m \u001b[39m\u001b[32mIn[40]\u001b[39m\u001b[32m, line 9\u001b[39m\n\u001b[32m      6\u001b[39m file_name = \u001b[33mf\u001b[39m\u001b[33m\"\u001b[39m\u001b[33mjob_data_\u001b[39m\u001b[38;5;132;01m{\u001b[39;00mnumber_of_file\u001b[38;5;132;01m}\u001b[39;00m\u001b[33m.json\u001b[39m\u001b[33m\"\u001b[39m\n\u001b[32m      8\u001b[39m \u001b[38;5;66;03m# Gọi hàm lưu dữ liệu\u001b[39;00m\n\u001b[32m----> \u001b[39m\u001b[32m9\u001b[39m \u001b[43mlink_to_json\u001b[49m\u001b[43m(\u001b[49m\u001b[43mjob_links\u001b[49m\u001b[43m[\u001b[49m\u001b[43mi\u001b[49m\u001b[43m]\u001b[49m\u001b[43m,\u001b[49m\u001b[43m \u001b[49m\u001b[43mfile_name\u001b[49m\u001b[43m)\u001b[49m\n\u001b[32m     11\u001b[39m \u001b[38;5;28mprint\u001b[39m(\u001b[33mf\u001b[39m\u001b[33m\"\u001b[39m\u001b[33mĐã lưu job \u001b[39m\u001b[38;5;132;01m{\u001b[39;00mi\u001b[38;5;132;01m}\u001b[39;00m\u001b[33m vào file \u001b[39m\u001b[38;5;132;01m{\u001b[39;00mfile_name\u001b[38;5;132;01m}\u001b[39;00m\u001b[33m\"\u001b[39m)\n",
      "\u001b[36mCell\u001b[39m\u001b[36m \u001b[39m\u001b[32mIn[38]\u001b[39m\u001b[32m, line 9\u001b[39m, in \u001b[36mlink_to_json\u001b[39m\u001b[34m(url, json_file_name)\u001b[39m\n\u001b[32m      5\u001b[39m     soup = BeautifulSoup(response.text, \u001b[33m\"\u001b[39m\u001b[33mhtml.parser\u001b[39m\u001b[33m\"\u001b[39m)\n\u001b[32m      6\u001b[39m     \u001b[38;5;66;03m# print(soup)\u001b[39;00m\n\u001b[32m      7\u001b[39m \n\u001b[32m      8\u001b[39m \u001b[38;5;66;03m#Lấy job_description_content\u001b[39;00m\n\u001b[32m----> \u001b[39m\u001b[32m9\u001b[39m job_description_content = \u001b[43msoup\u001b[49m.find(\u001b[33m\"\u001b[39m\u001b[33mdiv\u001b[39m\u001b[33m\"\u001b[39m, class_=\u001b[38;5;28;01mlambda\u001b[39;00m c: c \u001b[38;5;129;01mand\u001b[39;00m \u001b[33m\"\u001b[39m\u001b[33mjob-description\u001b[39m\u001b[33m\"\u001b[39m \u001b[38;5;129;01min\u001b[39;00m c)\n\u001b[32m     10\u001b[39m \u001b[38;5;66;03m# print(job_description_content)\u001b[39;00m\n\u001b[32m     11\u001b[39m job_text = job_description_content.get_text(separator=\u001b[33m\"\u001b[39m\u001b[38;5;130;01m\\n\u001b[39;00m\u001b[33m\"\u001b[39m,strip=\u001b[38;5;28;01mTrue\u001b[39;00m)\n",
      "\u001b[31mUnboundLocalError\u001b[39m: cannot access local variable 'soup' where it is not associated with a value"
     ]
    }
   ],
   "source": [
    "for i in range(1, 1001):\n",
    "    # Tính số thứ tự file (chia 100, làm tròn lên)\n",
    "    number_of_file = (i - 1) // 100 + 1\n",
    "\n",
    "    # Tạo tên file tương ứng\n",
    "    file_name = f\"job_data_{number_of_file}.json\"\n",
    "\n",
    "    # Gọi hàm lưu dữ liệu\n",
    "    link_to_json(job_links[i], file_name)\n",
    "\n",
    "    print(f\"Đã lưu job {i} vào file {file_name}\")\n"
   ]
  }
 ],
 "metadata": {
  "kernelspec": {
   "display_name": ".venv",
   "language": "python",
   "name": "python3"
  },
  "language_info": {
   "codemirror_mode": {
    "name": "ipython",
    "version": 3
   },
   "file_extension": ".py",
   "mimetype": "text/x-python",
   "name": "python",
   "nbconvert_exporter": "python",
   "pygments_lexer": "ipython3",
   "version": "3.12.6"
  }
 },
 "nbformat": 4,
 "nbformat_minor": 5
}
