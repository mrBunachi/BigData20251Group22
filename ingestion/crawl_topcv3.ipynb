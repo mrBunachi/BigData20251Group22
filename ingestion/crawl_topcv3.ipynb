{
 "cells": [
  {
   "cell_type": "code",
   "execution_count": null,
   "id": "0e14b3b4",
   "metadata": {},
   "outputs": [],
   "source": [
    "import requests\n",
    "from bs4 import BeautifulSoup\n",
    "import concurrent.futures\n",
    "import time, random\n",
    "\n",
    "job_links = []\n",
    "\n",
    "# Header giả lập trình duyệt thật\n",
    "headers = {\n",
    "    \"User-Agent\": \"Mozilla/5.0 (Windows NT 10.0; Win64; x64) \"\n",
    "                  \"AppleWebKit/537.36 (KHTML, like Gecko) \"\n",
    "                  \"Chrome/119.0.0.0 Safari/537.36\",\n",
    "    \"Accept\": \"text/html,application/xhtml+xml,application/xml;q=0.9,image/webp,*/*;q=0.8\",\n",
    "    # 👇 Tắt yêu cầu nén gzip/br\n",
    "    \"Accept-Encoding\": \"identity\",\n",
    "    \"Accept-Language\": \"vi-VN,vi;q=0.9,en;q=0.8\",\n",
    "    \"Connection\": \"keep-alive\",\n",
    "}\n",
    "\n",
    "def crawl_page(page):\n",
    "    url = f\"https://www.topcv.vn/viec-lam-it?page={page}\"\n",
    "    try:\n",
    "        # Delay ngẫu nhiên tránh bị chặn\n",
    "        time.sleep(random.uniform(2, 4))\n",
    "\n",
    "        response = requests.get(url, headers=headers, timeout=15)\n",
    "        response.encoding = response.apparent_encoding  # tự đoán encoding\n",
    "\n",
    "        # Lưu HTML của trang ra file để kiểm tra\n",
    "        #with open(f\"page_{page}.html\", \"wb\") as f:\n",
    "            #f.write(response.content)\n",
    "\n",
    "        if response.status_code == 200:\n",
    "            soup = BeautifulSoup(response.text, \"html.parser\")\n",
    "            all_job = soup.find_all(\"div\", class_=\"job-item-2\")\n",
    "            links = []\n",
    "            for job in all_job:\n",
    "                a_tag = job.find(\"a\", href=True)\n",
    "                if a_tag:\n",
    "                    links.append(a_tag[\"href\"])\n",
    "            # print(f\"Trang {page}: {len(links)} links\")\n",
    "            return links\n",
    "        else:\n",
    "            print(f\"Trang {page} lỗi HTTP {response.status_code}\")\n",
    "    except Exception as e:\n",
    "        print(f\"Lỗi trang {page}: {e}\")\n",
    "    return []\n",
    "\n",
    "\n",
    "# === Chạy đa luồng nhẹ (đừng quá cao nếu không bị chặn) ===\n",
    "with concurrent.futures.ThreadPoolExecutor(max_workers=3) as executor:\n",
    "    results = executor.map(crawl_page, range(2, 22))  # thử trước 20 trang\n",
    "    for r in results:\n",
    "        job_links.extend(r)\n",
    "\n",
    "print(\"\\nTổng số link thu được:\", len(job_links))"
   ]
  },
  {
   "cell_type": "code",
   "execution_count": 5,
   "id": "60594052",
   "metadata": {},
   "outputs": [
    {
     "ename": "IndexError",
     "evalue": "list index out of range",
     "output_type": "error",
     "traceback": [
      "\u001b[31m---------------------------------------------------------------------------\u001b[39m",
      "\u001b[31mIndexError\u001b[39m                                Traceback (most recent call last)",
      "\u001b[36mCell\u001b[39m\u001b[36m \u001b[39m\u001b[32mIn[5]\u001b[39m\u001b[32m, line 1\u001b[39m\n\u001b[32m----> \u001b[39m\u001b[32m1\u001b[39m \u001b[43mjob_links\u001b[49m\u001b[43m[\u001b[49m\u001b[32;43m0\u001b[39;49m\u001b[43m]\u001b[49m\n",
      "\u001b[31mIndexError\u001b[39m: list index out of range"
     ]
    }
   ],
   "source": [
    "job_links[0]"
   ]
  },
  {
   "cell_type": "code",
   "execution_count": null,
   "id": "5becfcb3",
   "metadata": {},
   "outputs": [],
   "source": [
    "url = \"https://www.topcv.vn/viec-lam/java-developer/1907639.html?ta_source=ITJobs_LinkDetail\"\n",
    "# url = job_links[0]\n",
    "#Hai link trên nó khác nhau một link của trang premium, một trang của công ty thường\n",
    "#Đoạn code xử lý phía dưới đều crawl được\n",
    "response = requests.get(url, headers=headers, timeout=15)\n",
    "if response.status_code == 200:\n",
    "    soup = BeautifulSoup(response.text, \"html.parser\")\n",
    "    # print(soup)"
   ]
  },
  {
   "cell_type": "code",
   "execution_count": 6,
   "id": "ec6175c1",
   "metadata": {},
   "outputs": [
    {
     "ename": "NameError",
     "evalue": "name 'soup' is not defined",
     "output_type": "error",
     "traceback": [
      "\u001b[31m---------------------------------------------------------------------------\u001b[39m",
      "\u001b[31mNameError\u001b[39m                                 Traceback (most recent call last)",
      "\u001b[36mCell\u001b[39m\u001b[36m \u001b[39m\u001b[32mIn[6]\u001b[39m\u001b[32m, line 2\u001b[39m\n\u001b[32m      1\u001b[39m \u001b[38;5;66;03m# title_tag = soup.find(lambda tag: tag.name in [\"h2\", \"h3\", \"strong\"] and \"Mô tả công việc\" in tag.get_text())\u001b[39;00m\n\u001b[32m----> \u001b[39m\u001b[32m2\u001b[39m job_description_content = \u001b[43msoup\u001b[49m.find(\u001b[33m\"\u001b[39m\u001b[33mdiv\u001b[39m\u001b[33m\"\u001b[39m, class_= \u001b[38;5;28;01mlambda\u001b[39;00m c: c \u001b[38;5;129;01mand\u001b[39;00m \u001b[33m\"\u001b[39m\u001b[33mjob-description\u001b[39m\u001b[33m\"\u001b[39m \u001b[38;5;129;01min\u001b[39;00m c) \u001b[38;5;66;03m#Mekeep, sai dấu gạch dưới và gạch giữa mà tìm mãi.\u001b[39;00m\n\u001b[32m      3\u001b[39m \u001b[38;5;66;03m#print(title_tag) #Đã lấy được thẻ title_tag\u001b[39;00m\n\u001b[32m      4\u001b[39m \u001b[38;5;28mprint\u001b[39m(job_description_content) \u001b[38;5;66;03m#Đã lấy được job_description\u001b[39;00m\n",
      "\u001b[31mNameError\u001b[39m: name 'soup' is not defined"
     ]
    }
   ],
   "source": [
    "# title_tag = soup.find(lambda tag: tag.name in [\"h2\", \"h3\", \"strong\"] and \"Mô tả công việc\" in tag.get_text())\n",
    "job_description_content = soup.find(\"div\", class_= lambda c: c and \"job-description\" in c) #Mekeep, sai dấu gạch dưới và gạch giữa mà tìm mãi.\n",
    "#print(title_tag) #Đã lấy được thẻ title_tag\n",
    "print(job_description_content) #Đã lấy được job_description"
   ]
  },
  {
   "cell_type": "code",
   "execution_count": null,
   "id": "7c53f627",
   "metadata": {},
   "outputs": [],
   "source": [
    "mota = []\n",
    "if job_description_content:\n",
    "    #Lấy thẻ tiếp theo ngay sau nó, thường là div hoặc ul\n",
    "    mota = job_description_content.find_all(\"li\")\n",
    "    print(mota)\n",
    "    print(type(mota))"
   ]
  }
 ],
 "metadata": {
  "kernelspec": {
   "display_name": ".venv",
   "language": "python",
   "name": "python3"
  },
  "language_info": {
   "codemirror_mode": {
    "name": "ipython",
    "version": 3
   },
   "file_extension": ".py",
   "mimetype": "text/x-python",
   "name": "python",
   "nbconvert_exporter": "python",
   "pygments_lexer": "ipython3",
   "version": "3.12.6"
  }
 },
 "nbformat": 4,
 "nbformat_minor": 5
}
