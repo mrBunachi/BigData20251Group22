{
 "cells": [
  {
   "cell_type": "code",
   "execution_count": 3,
   "id": "81eb437c",
   "metadata": {},
   "outputs": [],
   "source": [
    "#Phần này chỉ để chạy cho vui, không có ý nghĩa nhiều\n",
    "import aiohttp\n",
    "import asyncio\n",
    "from bs4 import BeautifulSoup"
   ]
  },
  {
   "cell_type": "code",
   "execution_count": 4,
   "id": "b40b0fb7",
   "metadata": {},
   "outputs": [],
   "source": [
    "async def crawl_page(session, page):\n",
    "    url = f\"https://www.topcv.vn/viec-lam-it?page={page}\"\n",
    "    async with session.get(url) as response:\n",
    "        if response.status == 200:\n",
    "            html = await response.text()\n",
    "            soup = BeautifulSoup(html, \"html.parser\")\n",
    "            all_job = soup.find_all(\"div\", class_=\"job-item-2\")\n",
    "            links = [job.find(\"a\", href=True)[\"href\"] for job in all_job if job.find(\"a\", href=True)]\n",
    "            print(f\"✅ Trang {page}: {len(links)} links\")\n",
    "            return links\n",
    "        else:\n",
    "            print(f\"⚠️ Trang {page}: lỗi {response.status}\")\n",
    "            return []"
   ]
  },
  {
   "cell_type": "code",
   "execution_count": 8,
   "id": "536ec2d8",
   "metadata": {},
   "outputs": [],
   "source": [
    "async def main():\n",
    "    headers = {\n",
    "        \"User-Agent\": \"Mozilla/5.0 (Windows NT 10.0; Win64; x64) \"\n",
    "                      \"AppleWebKit/537.36 (KHTML, like Gecko) \"\n",
    "                      \"Chrome/128.0.0.0 Safari/537.36\"\n",
    "    }\n",
    "    async with aiohttp.ClientSession(headers=headers) as session:\n",
    "        tasks = [crawl_page(session, page) for page in range(1, 45)]\n",
    "        results = await asyncio.gather(*tasks)\n",
    "        job_links = [link for sublist in results for link in sublist]\n",
    "        print(\"\\nTổng số link:\", len(job_links))"
   ]
  },
  {
   "cell_type": "code",
   "execution_count": 9,
   "id": "aad19b95",
   "metadata": {},
   "outputs": [
    {
     "name": "stdout",
     "output_type": "stream",
     "text": [
      "⚠️ Trang 30: lỗi 429\n",
      "⚠️ Trang 28: lỗi 429\n",
      "⚠️ Trang 36: lỗi 429\n",
      "⚠️ Trang 9: lỗi 429\n",
      "⚠️ Trang 39: lỗi 429\n",
      "⚠️ Trang 37: lỗi 429\n",
      "⚠️ Trang 29: lỗi 429\n",
      "⚠️ Trang 25: lỗi 429\n",
      "⚠️ Trang 43: lỗi 429\n",
      "⚠️ Trang 14: lỗi 429\n",
      "⚠️ Trang 26: lỗi 429\n",
      "⚠️ Trang 8: lỗi 429\n",
      "⚠️ Trang 40: lỗi 429\n",
      "⚠️ Trang 1: lỗi 429\n",
      "✅ Trang 15: 50 links\n",
      "⚠️ Trang 42: lỗi 429\n",
      "⚠️ Trang 20: lỗi 429\n",
      "⚠️ Trang 32: lỗi 429\n",
      "⚠️ Trang 18: lỗi 429\n",
      "✅ Trang 3: 50 links\n",
      "⚠️ Trang 10: lỗi 429\n",
      "⚠️ Trang 6: lỗi 429\n",
      "⚠️ Trang 33: lỗi 429\n",
      "✅ Trang 12: 50 links\n",
      "⚠️ Trang 4: lỗi 429\n",
      "✅ Trang 11: 50 links\n",
      "✅ Trang 13: 50 links\n",
      "✅ Trang 2: 50 links\n",
      "⚠️ Trang 5: lỗi 429\n",
      "✅ Trang 19: 50 links\n",
      "✅ Trang 31: 50 links\n",
      "✅ Trang 24: 50 links\n",
      "✅ Trang 17: 50 links\n",
      "✅ Trang 41: 50 links\n",
      "✅ Trang 34: 50 links\n",
      "✅ Trang 22: 50 links\n",
      "✅ Trang 23: 50 links\n",
      "✅ Trang 44: 6 links\n",
      "✅ Trang 27: 50 links\n",
      "✅ Trang 16: 50 links\n",
      "✅ Trang 21: 50 links\n",
      "✅ Trang 7: 50 links\n",
      "✅ Trang 35: 50 links\n",
      "✅ Trang 38: 50 links\n",
      "\n",
      "Tổng số link: 1006\n"
     ]
    }
   ],
   "source": [
    "# Chạy async event loop\n",
    "await main()\n"
   ]
  }
 ],
 "metadata": {
  "kernelspec": {
   "display_name": ".venv",
   "language": "python",
   "name": "python3"
  },
  "language_info": {
   "codemirror_mode": {
    "name": "ipython",
    "version": 3
   },
   "file_extension": ".py",
   "mimetype": "text/x-python",
   "name": "python",
   "nbconvert_exporter": "python",
   "pygments_lexer": "ipython3",
   "version": "3.12.6"
  }
 },
 "nbformat": 4,
 "nbformat_minor": 5
}
