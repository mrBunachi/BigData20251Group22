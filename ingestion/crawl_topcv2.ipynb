{
 "cells": [
  {
   "cell_type": "code",
   "execution_count": 1,
   "id": "3352ae70",
   "metadata": {},
   "outputs": [],
   "source": [
    "import requests\n",
    "from bs4 import BeautifulSoup\n",
    "import concurrent.futures\n",
    "import time, random"
   ]
  },
  {
   "cell_type": "code",
   "execution_count": 2,
   "id": "033c53eb",
   "metadata": {},
   "outputs": [],
   "source": [
    "job_links = []\n",
    "headers = {\n",
    "    \"User-Agent\": \"Mozilla/5.0 (Windows NT 10.0; Win64; x64) \"\n",
    "                  \"AppleWebKit/537.36 (KHTML, like Gecko) \"\n",
    "                  \"Chrome/119.0.0.0 Safari/537.36\",\n",
    "    \"Accept\": \"text/html,application/xhtml+xml,application/xml;q=0.9,image/avif,image/webp,image/apng,*/*;q=0.8\",\n",
    "    \"Accept-Encoding\": \"gzip, deflate, br\",\n",
    "    \"Accept-Language\": \"vi-VN,vi;q=0.9,en;q=0.8\",\n",
    "    \"Connection\": \"keep-alive\",\n",
    "}"
   ]
  },
  {
   "cell_type": "code",
   "execution_count": 3,
   "id": "d264cc87",
   "metadata": {},
   "outputs": [],
   "source": [
    "def crawl_page(page):\n",
    "    url = f\"https://www.topcv.vn/viec-lam-it?page={page}\"\n",
    "    try:\n",
    "        time.sleep(random.uniform(2, 4))  # delay tránh bị chặn\n",
    "        response = requests.get(url, headers=headers, timeout=10)\n",
    "        if response.status_code == 200:\n",
    "            #soup = BeautifulSoup(response.content, 'html.parser')\n",
    "            response.encoding = response.apparent_encoding\n",
    "            html = response.text\n",
    "            soup = BeautifulSoup(html, 'html.parser')\n",
    "            all_job = soup.find_all('div', class_='job-item-2')\n",
    "            links = []\n",
    "            for job in all_job:\n",
    "                a_tag = job.find('a', href=True)\n",
    "                if a_tag:\n",
    "                    links.append(a_tag['href'])\n",
    "            print(f\"Trang {page}: {len(links)} links\")\n",
    "            return links\n",
    "        else:\n",
    "            print(f\"Trang {page} lỗi: {response.status_code}\")\n",
    "    except Exception as e:\n",
    "        print(f\"Lỗi trang {page}: {e}\")\n",
    "    return []"
   ]
  },
  {
   "cell_type": "code",
   "execution_count": 12,
   "id": "d62f4537",
   "metadata": {},
   "outputs": [
    {
     "name": "stdout",
     "output_type": "stream",
     "text": [
      "\n",
      "Tổng số link thu được: 1000\n"
     ]
    }
   ],
   "source": [
    "import requests\n",
    "from bs4 import BeautifulSoup\n",
    "import concurrent.futures\n",
    "import time, random\n",
    "\n",
    "job_links = []\n",
    "\n",
    "# Header giả lập trình duyệt thật\n",
    "headers = {\n",
    "    \"User-Agent\": \"Mozilla/5.0 (Windows NT 10.0; Win64; x64) \"\n",
    "                  \"AppleWebKit/537.36 (KHTML, like Gecko) \"\n",
    "                  \"Chrome/119.0.0.0 Safari/537.36\",\n",
    "    \"Accept\": \"text/html,application/xhtml+xml,application/xml;q=0.9,image/webp,*/*;q=0.8\",\n",
    "    # 👇 Tắt yêu cầu nén gzip/br\n",
    "    \"Accept-Encoding\": \"identity\",\n",
    "    \"Accept-Language\": \"vi-VN,vi;q=0.9,en;q=0.8\",\n",
    "    \"Connection\": \"keep-alive\",\n",
    "}\n",
    "\n",
    "def crawl_page(page):\n",
    "    url = f\"https://www.topcv.vn/viec-lam-it?page={page}\"\n",
    "    try:\n",
    "        # Delay ngẫu nhiên tránh bị chặn\n",
    "        time.sleep(random.uniform(2, 4))\n",
    "\n",
    "        response = requests.get(url, headers=headers, timeout=15)\n",
    "        response.encoding = response.apparent_encoding  # tự đoán encoding\n",
    "\n",
    "        # Lưu HTML của trang ra file để kiểm tra\n",
    "        #with open(f\"page_{page}.html\", \"wb\") as f:\n",
    "            #f.write(response.content)\n",
    "\n",
    "        if response.status_code == 200:\n",
    "            soup = BeautifulSoup(response.text, \"html.parser\")\n",
    "            all_job = soup.find_all(\"div\", class_=\"job-item-2\")\n",
    "            links = []\n",
    "            for job in all_job:\n",
    "                a_tag = job.find(\"a\", href=True)\n",
    "                if a_tag:\n",
    "                    links.append(a_tag[\"href\"])\n",
    "            # print(f\"Trang {page}: {len(links)} links\")\n",
    "            return links\n",
    "        else:\n",
    "            print(f\"Trang {page} lỗi HTTP {response.status_code}\")\n",
    "    except Exception as e:\n",
    "        print(f\"Lỗi trang {page}: {e}\")\n",
    "    return []\n",
    "\n",
    "\n",
    "# === Chạy đa luồng nhẹ (đừng quá cao nếu không bị chặn) ===\n",
    "with concurrent.futures.ThreadPoolExecutor(max_workers=3) as executor:\n",
    "    results = executor.map(crawl_page, range(2, 22))  # thử trước 20 trang\n",
    "    for r in results:\n",
    "        job_links.extend(r)\n",
    "\n",
    "print(\"\\nTổng số link thu được:\", len(job_links))\n"
   ]
  },
  {
   "cell_type": "code",
   "execution_count": 29,
   "id": "c8246cff",
   "metadata": {},
   "outputs": [
    {
     "data": {
      "text/plain": [
       "'https://www.topcv.vn/brand/fptis/tuyen-dung/nhan-vien-kiem-thu-tester-j1903857.html?ta_source=ITJobs_LinkDetail'"
      ]
     },
     "execution_count": 29,
     "metadata": {},
     "output_type": "execute_result"
    }
   ],
   "source": [
    "job_links[0]"
   ]
  },
  {
   "cell_type": "code",
   "execution_count": 30,
   "id": "13488cf3",
   "metadata": {},
   "outputs": [],
   "source": [
    "url = \"https://www.topcv.vn/viec-lam/java-developer/1907639.html?ta_source=ITJobs_LinkDetail\"\n",
    "# url = job_links[0]\n",
    "#Hai link trên nó khác nhau một link của trang premium, một trang của công ty thường\n",
    "#Đoạn code xử lý phía dưới đều crawl được\n",
    "response = requests.get(url, headers=headers, timeout=15)\n",
    "if response.status_code == 200:\n",
    "    soup = BeautifulSoup(response.text, \"html.parser\")\n",
    "    # print(soup)"
   ]
  },
  {
   "cell_type": "code",
   "execution_count": 37,
   "id": "f8d8718a",
   "metadata": {},
   "outputs": [
    {
     "name": "stdout",
     "output_type": "stream",
     "text": [
      "<div class=\"job-description\">\n",
      "<div class=\"job-description__item\">\n",
      "<h3>Mô tả công việc</h3>\n",
      "<div class=\"job-description__item--content\">\n",
      "<ul><li>Chịu trách nhiệm về việc thiết kế, viết mã nguồn và triển khai các ứng dụng Java dựa trên các yêu cầu kỹ thuật và thiết kế đã được phê duyệt.</li><li>Viết mã nguồn sạch, tối ưu hóa và dễ bảo trì; thực hiện code review để đảm bảo mã nguồn tuân theo các nguyên tắc lập trình tốt nhất và các chuẩn của công ty.</li><li>Làm việc chặt chẽ với nhóm để xác định các cơ hội tối ưu hóa mã nguồn và cải thiện hiệu suất của ứng dụng.</li><li>Phản hồi nhanh chóng và hiệu quả đối về các vấn đề kỹ thuật phát sinh trong quá trình phát triển và sau khi sản phẩm được triển khai.</li><li>Phối hợp với các nhóm khác như UI/UX, QA, và DevOps để đảm bảo ứng dụng được phát triển một cách toàn diện.</li><li>Luôn cập nhật các công nghệ mới nhất và áp dụng vào trong công việc hiệu quả.</li></ul>\n",
      "</div>\n",
      "</div>\n",
      "<div class=\"job-description__item\">\n",
      "<h3>Yêu cầu ứng viên</h3>\n",
      "<div class=\"job-description__item--content\">\n",
      "<ul><li>Kiến thức chuyên sâu về Java với ít nhất 02 năm kinh nghiệm làm việc.</li><li>Kinh nghiệm làm việc với các framework như Spring, Hibernate và Quarkus, và khả năng viết các services RESTful và SOAP.</li><li>Kinh nghiệm làm việc theo phương pháp Agile/Scrum và sử dụng các công cụ quản lý dự án như JIRA hoặc Trello.</li><li>Khả năng thiết kế và tối ưu hóa cơ sở dữ liệu SQL và NoSQL và kinh nghiệm với các công cụ ORM.</li><li>Hiểu biết về các nguyên tắc bảo mật ứng dụng web và kinh nghiệm triển khai các giải pháp bảo mật.</li><li>Khả năng giao tiếp rõ ràng và hiệu quả, cả bằng văn bản lẫn nói, với các bên liên quan kỹ thuật và phi kỹ thuật.</li><li>Có tinh thần học hỏi không ngừng và khả năng thích nghi với các công nghệ mới nhanh chóng.</li></ul>\n",
      "</div>\n",
      "</div>\n",
      "<div class=\"job-description__item\">\n",
      "<h3>Quyền lợi</h3>\n",
      "<div class=\"job-description__item--content\">\n",
      "<ul><li>Mức lương cạnh tranh theo đúng năng lực  </li><li>Môi trường làm việc thân thiện, năng động, có cơ hội phát triển bản thân và thăng tiến.  </li><li>Ghi nhận thành tích, tăng lương và tưởng thưởng kịp thời.  </li><li>Thưởng định kì ngày lễ 30/4, 2/9,… thường Tết  </li><li>Nghỉ thứ 7, chủ nhật và các ngày Lễ theo quy định.  </li><li>Được hỗ trợ tiền làm thêm giờ, phụ cấp hoạt động dự án.  </li><li>Được tham gia các khóa đào tạo do công ty tổ chức: kĩ năng mềm, nâng cao trình độ chuyên môn…</li><li>Có cơ hội thăng tiến  </li><li>Được đào tạo, làm việc cùng các chuyên gia nước ngoài  </li><li>Có cơ hội công tác nước ngoài  </li><li>Được hưởng đầy đủ các chế độ bảo hiểm theo luật Việt Nam và quy định của công ty.  </li></ul>\n",
      "</div>\n",
      "</div>\n",
      "<div class=\"job-description__custom-form-job custom-form-job\">\n",
      "<div class=\"custom-form-job__item\">\n",
      "<svg fill=\"none\" height=\"24\" viewbox=\"0 0 24 24\" width=\"24\" xmlns=\"http://www.w3.org/2000/svg\">\n",
      "<g clip-path=\"url(#clip0_6408_39321)\">\n",
      "<path d=\"M22.46 9.047L22 8.606V8C22 5.794 20.206 4 18 4H5.99996C3.79396 4 1.99996 5.794 1.99996 8V8.61L1.54196 9.048C0.562959 9.986 0.00195886 11.303 0.00195886 12.658V18.999C-4.11381e-05 20.335 0.520959 21.591 1.46496 22.535C2.40896 23.479 3.66496 24 5.00096 24H19C21.757 24 24 21.757 24 19V12.657C24 11.301 23.438 9.984 22.46 9.047ZM5.99996 6H18C19.103 6 20 6.897 20 8V11.242L14.121 17.121C12.988 18.254 11.012 18.254 9.87896 17.121L3.99996 11.242V8C3.99996 6.897 4.89696 6 5.99996 6ZM22 19C22 20.654 20.654 22 19 22H5.00096C4.19896 22 3.44496 21.688 2.87896 21.121C2.31296 20.555 2.00096 19.801 2.00096 18.999V12.658C2.00096 12.479 2.02496 12.301 2.05596 12.127L8.46396 18.535C9.40696 19.479 10.663 20 11.999 20C13.335 20 14.591 19.479 15.534 18.535L21.944 12.125C21.976 12.3 21.999 12.478 21.999 12.657L22 19ZM4.99996 1C4.99996 0.447 5.44696 0 5.99996 0H18C18.553 0 19 0.447 19 1C19 1.553 18.553 2 18 2H5.99996C5.44696 2 4.99996 1.553 4.99996 1ZM16 8.5C16 7.67 16.67 7 17.5 7C18.33 7 19 7.67 19 8.5C19 9.33 18.33 10 17.5 10C16.67 10 16 9.33 16 8.5ZM12 16C13.93 16 15.5 14.43 15.5 12.5C15.5 10.57 13.93 9 12 9C10.07 9 8.49996 10.57 8.49996 12.5C8.49996 14.43 10.07 16 12 16ZM12 11C12.827 11 13.5 11.673 13.5 12.5C13.5 13.327 12.827 14 12 14C11.173 14 10.5 13.327 10.5 12.5C10.5 11.673 11.173 11 12 11ZM4.99996 8.5C4.99996 7.67 5.66996 7 6.49996 7C7.32996 7 7.99996 7.67 7.99996 8.5C7.99996 9.33 7.32996 10 6.49996 10C5.66996 10 4.99996 9.33 4.99996 8.5Z\" fill=\"#263A4D\"></path>\n",
      "</g>\n",
      "<defs>\n",
      "<clippath id=\"clip0_6408_39321\">\n",
      "<rect fill=\"white\" height=\"24\" width=\"24\"></rect>\n",
      "</clippath>\n",
      "</defs>\n",
      "</svg>\n",
      "<div>\n",
      "<h3 class=\"custom-form-job__item--title\">Phụ cấp</h3>\n",
      "<div class=\"custom-form-job__item--content\">\n",
      "                                    Ăn trưa\n",
      "                                </div>\n",
      "</div>\n",
      "</div>\n",
      "<div class=\"custom-form-job__item\">\n",
      "<svg fill=\"none\" height=\"24\" viewbox=\"0 0 24 24\" width=\"24\" xmlns=\"http://www.w3.org/2000/svg\">\n",
      "<path d=\"M21.9999 15.184V8C21.9983 6.67441 21.471 5.40356 20.5337 4.46622C19.5963 3.52888 18.3255 3.00159 16.9999 3H6.9999C5.6743 3.00159 4.40346 3.52888 3.46612 4.46622C2.52878 5.40356 2.00149 6.67441 1.9999 8V15.184C1.33322 15.4188 0.771153 15.882 0.413259 16.4915C0.0553652 17.1011 -0.0752631 17.8176 0.0445109 18.5142C0.164285 19.2108 0.526731 19.8425 1.06766 20.2975C1.60858 20.7525 2.29307 21.0013 2.9999 21H20.9999C21.7067 21.0013 22.3912 20.7525 22.9321 20.2975C23.4731 19.8425 23.8355 19.2108 23.9553 18.5142C24.0751 17.8176 23.9444 17.1011 23.5865 16.4915C23.2286 15.882 22.6666 15.4188 21.9999 15.184ZM6.9999 5H16.9999C17.7955 5 18.5586 5.31607 19.1212 5.87868C19.6838 6.44129 19.9999 7.20435 19.9999 8V15H15.8489C15.558 14.9998 15.2706 15.0631 15.0067 15.1853C14.7428 15.3076 14.5088 15.486 14.3209 15.708L14.0739 16H9.9249L9.6789 15.708C9.49101 15.486 9.25695 15.3076 8.99305 15.1853C8.72915 15.0631 8.44175 14.9998 8.1509 15H3.9999V8C3.9999 7.20435 4.31597 6.44129 4.87858 5.87868C5.44119 5.31607 6.20425 5 6.9999 5ZM20.9999 19H2.9999C2.73468 19 2.48033 18.8946 2.29279 18.7071C2.10525 18.5196 1.9999 18.2652 1.9999 18C1.9999 17.7348 2.10525 17.4804 2.29279 17.2929C2.48033 17.1054 2.73468 17 2.9999 17H8.1519L8.3979 17.292C8.58568 17.5139 8.81958 17.6922 9.08329 17.8145C9.34701 17.9367 9.63421 18 9.9249 18H14.0739C14.3648 18.0002 14.6521 17.9369 14.916 17.8147C15.18 17.6924 15.414 17.514 15.6019 17.292L15.8489 17H20.9999C21.2651 17 21.5195 17.1054 21.707 17.2929C21.8945 17.4804 21.9999 17.7348 21.9999 18C21.9999 18.2652 21.8945 18.5196 21.707 18.7071C21.5195 18.8946 21.2651 19 20.9999 19Z\" fill=\"#263A4D\"></path>\n",
      "</svg>\n",
      "<div>\n",
      "<h3 class=\"custom-form-job__item--title\">Thiết bị làm việc</h3>\n",
      "<div class=\"custom-form-job__item--content\">\n",
      "                                    Được cấp Máy tính\n",
      "                                </div>\n",
      "</div>\n",
      "</div>\n",
      "<div class=\"custom-form-job__item\">\n",
      "<svg fill=\"none\" height=\"24\" viewbox=\"0 0 24 24\" width=\"24\" xmlns=\"http://www.w3.org/2000/svg\">\n",
      "<g clip-path=\"url(#clip0_6408_39335)\">\n",
      "<path d=\"M2 6C2 5.448 2.448 5 3 5H4V4C4 3.448 4.448 3 5 3C5.552 3 6 3.448 6 4V5H7C7.552 5 8 5.448 8 6C8 6.552 7.552 7 7 7H6V8C6 8.552 5.552 9 5 9C4.448 9 4 8.552 4 8V7H3C2.448 7 2 6.552 2 6ZM11 4H12V5C12 5.552 12.448 6 13 6C13.552 6 14 5.552 14 5V4H15C15.552 4 16 3.552 16 3C16 2.448 15.552 2 15 2H14V1C14 0.448 13.552 0 13 0C12.448 0 12 0.448 12 1V2H11C10.448 2 10 2.448 10 3C10 3.552 10.448 4 11 4ZM23.236 13.015L16.431 20.653C14.535 22.781 11.813 24.001 8.965 24.001H4C1.794 24.001 0 22.207 0 20.001V15.001C0 12.795 1.794 11.001 4 11.001H12.858C13.997 11.001 14.996 11.61 15.547 12.52L18.763 8.986C19.305 8.391 20.045 8.042 20.849 8.005C21.657 7.963 22.423 8.245 23.017 8.787C24.231 9.894 24.329 11.79 23.236 13.015ZM21.67 10.264C21.471 10.082 21.21 9.99 20.942 10.002C20.672 10.015 20.424 10.131 20.242 10.331L15.816 15.195C15.431 16.265 14.477 17.086 13.301 17.254L8.141 17.991C7.595 18.07 7.088 17.69 7.01 17.142C6.932 16.595 7.312 16.088 7.858 16.01L13.019 15.273C13.579 15.194 14 14.708 14 14.143C14 13.513 13.488 13 12.858 13H4C2.897 13 2 13.897 2 15V20C2 21.103 2.897 22 4 22H8.965C11.244 22 13.421 21.023 14.938 19.322L21.743 11.684C22.11 11.272 22.077 10.635 21.67 10.263V10.264Z\" fill=\"#263A4D\"></path>\n",
      "</g>\n",
      "<defs>\n",
      "<clippath id=\"clip0_6408_39335\">\n",
      "<rect fill=\"white\" height=\"24\" width=\"24\"></rect>\n",
      "</clippath>\n",
      "</defs>\n",
      "</svg>\n",
      "<div>\n",
      "<h3 class=\"custom-form-job__item--title\">Quyền lợi</h3>\n",
      "<div class=\"custom-form-job__item--content\">\n",
      "                                    Bảo hiểm xã hội, Bảo hiểm sức khỏe, Du lịch hàng năm\n",
      "                                </div>\n",
      "</div>\n",
      "</div>\n",
      "</div>\n",
      "<div class=\"job-description__item\">\n",
      "<h3>Địa điểm làm việc</h3>\n",
      "<div class=\"job-description__item--content\">\n",
      "<div style=\"margin-bottom: 10px\">- Hà Nội: Tòa 319 Bộ Quốc Phòng, 63 Lê Văn Lương, Cầu Giấy, Cầu Giấy</div>\n",
      "</div>\n",
      "</div>\n",
      "<div class=\"job-description__item\">\n",
      "<h3>Thời gian làm việc</h3>\n",
      "<div class=\"job-description__item--content\">\n",
      "<div class=\"job-description__item--content-list\">Thứ 2 - Thứ 6 (từ 08:00 đến 17:00)</div>\n",
      "</div>\n",
      "</div>\n",
      "<div class=\"job-description__item\">\n",
      "<h3>Cách thức ứng tuyển</h3>\n",
      "<div class=\"job-description__item--content\">\n",
      "                                                                                                            Ứng viên nộp hồ sơ trực tuyến bằng cách bấm <strong>Ứng tuyển</strong> ngay dưới đây.\n",
      "                                                                        </div>\n",
      "</div>\n",
      "</div>\n"
     ]
    }
   ],
   "source": [
    "title_tag = soup.find(lambda tag: tag.name in [\"h2\", \"h3\", \"strong\"] and \"Mô tả công việc\" in tag.get_text())\n",
    "job_description_content = soup.find(\"div\", class_= lambda c: c and \"job-description\" in c) #Mekeep, sai dấu gạch dưới và gạch giữa mà tìm mãi.\n",
    "#print(title_tag) #Đã lấy được thẻ title_tag\n",
    "print(job_description_content) #Đã lấy được job_description\n"
   ]
  },
  {
   "cell_type": "code",
   "execution_count": 44,
   "id": "d40d3a41",
   "metadata": {},
   "outputs": [
    {
     "name": "stdout",
     "output_type": "stream",
     "text": [
      "[<li>Chịu trách nhiệm về việc thiết kế, viết mã nguồn và triển khai các ứng dụng Java dựa trên các yêu cầu kỹ thuật và thiết kế đã được phê duyệt.</li>, <li>Viết mã nguồn sạch, tối ưu hóa và dễ bảo trì; thực hiện code review để đảm bảo mã nguồn tuân theo các nguyên tắc lập trình tốt nhất và các chuẩn của công ty.</li>, <li>Làm việc chặt chẽ với nhóm để xác định các cơ hội tối ưu hóa mã nguồn và cải thiện hiệu suất của ứng dụng.</li>, <li>Phản hồi nhanh chóng và hiệu quả đối về các vấn đề kỹ thuật phát sinh trong quá trình phát triển và sau khi sản phẩm được triển khai.</li>, <li>Phối hợp với các nhóm khác như UI/UX, QA, và DevOps để đảm bảo ứng dụng được phát triển một cách toàn diện.</li>, <li>Luôn cập nhật các công nghệ mới nhất và áp dụng vào trong công việc hiệu quả.</li>, <li>Kiến thức chuyên sâu về Java với ít nhất 02 năm kinh nghiệm làm việc.</li>, <li>Kinh nghiệm làm việc với các framework như Spring, Hibernate và Quarkus, và khả năng viết các services RESTful và SOAP.</li>, <li>Kinh nghiệm làm việc theo phương pháp Agile/Scrum và sử dụng các công cụ quản lý dự án như JIRA hoặc Trello.</li>, <li>Khả năng thiết kế và tối ưu hóa cơ sở dữ liệu SQL và NoSQL và kinh nghiệm với các công cụ ORM.</li>, <li>Hiểu biết về các nguyên tắc bảo mật ứng dụng web và kinh nghiệm triển khai các giải pháp bảo mật.</li>, <li>Khả năng giao tiếp rõ ràng và hiệu quả, cả bằng văn bản lẫn nói, với các bên liên quan kỹ thuật và phi kỹ thuật.</li>, <li>Có tinh thần học hỏi không ngừng và khả năng thích nghi với các công nghệ mới nhanh chóng.</li>, <li>Mức lương cạnh tranh theo đúng năng lực  </li>, <li>Môi trường làm việc thân thiện, năng động, có cơ hội phát triển bản thân và thăng tiến.  </li>, <li>Ghi nhận thành tích, tăng lương và tưởng thưởng kịp thời.  </li>, <li>Thưởng định kì ngày lễ 30/4, 2/9,… thường Tết  </li>, <li>Nghỉ thứ 7, chủ nhật và các ngày Lễ theo quy định.  </li>, <li>Được hỗ trợ tiền làm thêm giờ, phụ cấp hoạt động dự án.  </li>, <li>Được tham gia các khóa đào tạo do công ty tổ chức: kĩ năng mềm, nâng cao trình độ chuyên môn…</li>, <li>Có cơ hội thăng tiến  </li>, <li>Được đào tạo, làm việc cùng các chuyên gia nước ngoài  </li>, <li>Có cơ hội công tác nước ngoài  </li>, <li>Được hưởng đầy đủ các chế độ bảo hiểm theo luật Việt Nam và quy định của công ty.  </li>]\n",
      "<class 'bs4.element.ResultSet'>\n"
     ]
    }
   ],
   "source": [
    "mota = []\n",
    "if job_description_content:\n",
    "    #Lấy thẻ tiếp theo ngay sau nó, thường là div hoặc ul\n",
    "    mota = job_description_content.find_all(\"li\")\n",
    "    print(mota)\n",
    "    print(type(mota))"
   ]
  }
 ],
 "metadata": {
  "kernelspec": {
   "display_name": ".venv",
   "language": "python",
   "name": "python3"
  },
  "language_info": {
   "codemirror_mode": {
    "name": "ipython",
    "version": 3
   },
   "file_extension": ".py",
   "mimetype": "text/x-python",
   "name": "python",
   "nbconvert_exporter": "python",
   "pygments_lexer": "ipython3",
   "version": "3.12.6"
  }
 },
 "nbformat": 4,
 "nbformat_minor": 5
}
